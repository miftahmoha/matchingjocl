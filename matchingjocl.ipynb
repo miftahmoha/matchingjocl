{
 "cells": [
  {
   "cell_type": "code",
   "execution_count": 1,
   "metadata": {},
   "outputs": [],
   "source": [
    "import pandas as pd"
   ]
  },
  {
   "cell_type": "markdown",
   "metadata": {},
   "source": [
    "# Partie 1"
   ]
  },
  {
   "cell_type": "markdown",
   "metadata": {},
   "source": [
    "## Importation des données"
   ]
  },
  {
   "cell_type": "markdown",
   "metadata": {},
   "source": [
    "Durant cette partie, on va importer nos données."
   ]
  },
  {
   "cell_type": "code",
   "execution_count": 2,
   "metadata": {},
   "outputs": [],
   "source": [
    "data_jobeur_file = 'DATA JOBEUR.xlsx'\n",
    "data_client_file = 'DATA CLIENT.xlsx'"
   ]
  },
  {
   "cell_type": "code",
   "execution_count": 3,
   "metadata": {},
   "outputs": [],
   "source": [
    "def Upload_Dataframe(filename1, filename2):\n",
    "    data_jobeur = pd.read_excel(filename1, engine='openpyxl', skiprows=6)\n",
    "    data_client = pd.read_excel(filename2, engine='openpyxl', skiprows=6)\n",
    "    return data_jobeur, data_client"
   ]
  },
  {
   "cell_type": "markdown",
   "metadata": {},
   "source": [
    "## Nettoyage des données"
   ]
  },
  {
   "cell_type": "markdown",
   "metadata": {},
   "source": [
    "### Suppression des colonnes dupliquées et vides"
   ]
  },
  {
   "cell_type": "code",
   "execution_count": 4,
   "metadata": {},
   "outputs": [],
   "source": [
    "def Delete_Col(data_jobeur, data_client):   \n",
    "    # Suppression des données dans le tableau DATA JOBEUR.xlsx\n",
    "    data_jobeur.drop(columns=['Quels sont vos niveaux de disponibilité 2? TEXTE', 'Autre transports', 'Permis PL', 'Caces 1',\n",
    "                              'Caces 2', 'Caces 3', 'Si vous avez un profil Linkedin ou un e-CV, coller le lien URL :',\n",
    "                              'Si vous avez un site internet, blog ou portfolio coller le lien URL'], axis=1, inplace=True)\n",
    "    \n",
    "    # Suppression des données dans le tableau DATA CLIENT.xlsx\n",
    "    data_client.drop(columns=['un site internet', 'Plusieurs personnes recherchées', \n",
    "                              \"Connaissez vous la différence de ces contrats ?\", 'Taille entreprise', 'autre permis', \n",
    "                              \"Si non, souhaitez-vous vous plus d'informations ?\"], axis=1, inplace=True)"
   ]
  },
  {
   "cell_type": "markdown",
   "metadata": {},
   "source": [
    "### Traitement des valeurs manquantes"
   ]
  },
  {
   "cell_type": "code",
   "execution_count": 5,
   "metadata": {},
   "outputs": [],
   "source": [
    "def Deal_Nan(data_jobeur,data_client):\n",
    "    # <------- DATA JOBEUR.xlsx ------->\n",
    "    # Remplissage de la colonne '0-20klm'\n",
    "    data_jobeur.fillna(value={'0- 20klm': 'non'}, inplace=True)\n",
    "    \n",
    "    # Traitement des valeurs 'null' dans la colonne 'Vos compétences 2'\n",
    "    index = data_jobeur.loc[data_jobeur['Vos compétences 1'] == 'Confiance (en soi, en les autres et en l\\'avenir)'].index\n",
    "    data_jobeur.loc[index,'Vos compétences 2'] = 'Sympatique'\n",
    "    \n",
    "    # Traitement des valeurs 'null' dans la colonne 'Vos compétences 2' et 'Vos compétences 3'\n",
    "    index = data_jobeur.loc[data_jobeur['Vos compétences 1'] == 'Résolution de problème'].index\n",
    "    data_jobeur.loc[index,['Vos compétences 2', 'Vos compétences 3']] = ['Bon jugement', 'Créativité']\n",
    "        \n",
    "    # Suppression de toutes les lignes avec des valeurs 'null' dans la colonne 'Dernier poste occupé (ou actuel)' et la colonne 'Mission recherchée : Exemple..'\n",
    "    data_jobeur.dropna(axis=0, subset = ['Dernier poste occupé (ou actuel)','Mission recherchée : Exemple n°1 de poste (métier + secteur)'],inplace=True)\n",
    "    \n",
    "    # <------- DATA CLIENT.xlsx ------->\n",
    "    data_client.dropna(thresh=5, inplace=True)"
   ]
  },
  {
   "cell_type": "markdown",
   "metadata": {},
   "source": [
    "### Normalisation des formats"
   ]
  },
  {
   "cell_type": "code",
   "execution_count": 6,
   "metadata": {},
   "outputs": [],
   "source": [
    "def Format_Consistency(data_jobeur, data_client):\n",
    "    # <------- DATA JOBEUR.xlsx ------->\n",
    "    # Insertion de la upper initiale \n",
    "    data_jobeur['Dernier poste occupé (ou actuel)'] = data_jobeur['Dernier poste occupé (ou actuel)'].str.upper()\n",
    "    data_jobeur['Mission recherchée : Exemple n°1 de poste (métier + secteur)'] = data_jobeur['Mission recherchée : Exemple n°1 de poste (métier + secteur)'].str.upper()\n",
    "\n",
    "    # Insertion de la capitalisation initiale \n",
    "    data_jobeur['Quel type de contrat vous intéresse 2'] = data_jobeur['Quel type de contrat vous intéresse 2'].str.capitalize()\n",
    "    data_jobeur['Quel type de contrat vous intéresse 3'] = data_jobeur['Quel type de contrat vous intéresse 3'].str.capitalize()\n",
    "\n",
    "    # Insertion de la lower initiale \n",
    "    data_jobeur['Permis B'] = data_jobeur['Permis B'].str.lower()\n",
    "    \n",
    "    # <------- DATA CLIENT.xlsx ------->\n",
    "    # Insertion de la upper initiale \n",
    "    data_client['Métier du poste'] = data_client['Métier du poste'].str.upper()\n",
    "    data_client['prénom'] = data_client['prénom'].str.upper()\n",
    "    \n",
    "    # Insertion de la capitalisation initiale \n",
    "    data_client['Quels types de contrats pour les embauchés - TEXTE'] = data_client['Quels types de contrats pour les embauchés - TEXTE'].str.capitalize()"
   ]
  },
  {
   "cell_type": "code",
   "execution_count": 7,
   "metadata": {},
   "outputs": [],
   "source": [
    "# Création de la dataframe\n",
    "data_jobeur, data_client = Upload_Dataframe(data_jobeur_file, data_client_file)\n",
    "\n",
    "# Suppression des colonnes toutes vide \n",
    "Delete_Col(data_jobeur, data_client)\n",
    "\n",
    "# Traitement des valeurs manquantes ou vides\n",
    "Deal_Nan(data_jobeur, data_client)\n",
    "\n",
    "# Normalisation des formats\n",
    "Format_Consistency(data_jobeur, data_client)"
   ]
  },
  {
   "cell_type": "code",
   "execution_count": 8,
   "metadata": {},
   "outputs": [
    {
     "data": {
      "text/html": [
       "<div>\n",
       "<style scoped>\n",
       "    .dataframe tbody tr th:only-of-type {\n",
       "        vertical-align: middle;\n",
       "    }\n",
       "\n",
       "    .dataframe tbody tr th {\n",
       "        vertical-align: top;\n",
       "    }\n",
       "\n",
       "    .dataframe thead th {\n",
       "        text-align: right;\n",
       "    }\n",
       "</style>\n",
       "<table border=\"1\" class=\"dataframe\">\n",
       "  <thead>\n",
       "    <tr style=\"text-align: right;\">\n",
       "      <th></th>\n",
       "      <th>NOM</th>\n",
       "      <th>Prénom</th>\n",
       "      <th>CODE POSTAL</th>\n",
       "      <th>VILLE</th>\n",
       "      <th>Dernier poste occupé (ou actuel)</th>\n",
       "      <th>GENRE</th>\n",
       "      <th>Mission recherchée : Exemple n°1 de poste (métier + secteur)</th>\n",
       "      <th>Quels sont vos niveaux de disponibilité ? TEXTE</th>\n",
       "      <th>Niveau de rémunération mensuelle brute souhaitée</th>\n",
       "      <th>Localisation géographique du poste (région, ville)</th>\n",
       "      <th>...</th>\n",
       "      <th>Quel type de contrat vous intéresse 3</th>\n",
       "      <th>Connaissez vous la différence entre ces types de contrats ?</th>\n",
       "      <th>Si non, souhaitez-vous vous plus d'informations ?</th>\n",
       "      <th>Vous souhaitez faire du télétravail (en % temps)</th>\n",
       "      <th>0- 20klm</th>\n",
       "      <th>21- 40klm</th>\n",
       "      <th>41-60klm</th>\n",
       "      <th>61 - klm et plus</th>\n",
       "      <th>Seriez-vous prêt à déménager pour ce futur job ?</th>\n",
       "      <th>Vous êtes prêt à faire des déplacements professionnels (en % temps)</th>\n",
       "    </tr>\n",
       "  </thead>\n",
       "  <tbody>\n",
       "    <tr>\n",
       "      <th>0</th>\n",
       "      <td>HERZOG</td>\n",
       "      <td>Patrick</td>\n",
       "      <td>64230.0</td>\n",
       "      <td>SAUVAGNON</td>\n",
       "      <td>AGENT ADMINISTRATIF</td>\n",
       "      <td>H</td>\n",
       "      <td>AGENT ADMINISTRATIF</td>\n",
       "      <td>1.0</td>\n",
       "      <td>2280.0</td>\n",
       "      <td>SAUVAGNON</td>\n",
       "      <td>...</td>\n",
       "      <td>Titulaire de la fonction publique</td>\n",
       "      <td>oui</td>\n",
       "      <td>oui</td>\n",
       "      <td>100.0</td>\n",
       "      <td>non</td>\n",
       "      <td>oui</td>\n",
       "      <td>non</td>\n",
       "      <td>non</td>\n",
       "      <td>oui</td>\n",
       "      <td>25.0</td>\n",
       "    </tr>\n",
       "    <tr>\n",
       "      <th>1</th>\n",
       "      <td>MATHIS</td>\n",
       "      <td>JONATHAN</td>\n",
       "      <td>64870.0</td>\n",
       "      <td>ESCOUT</td>\n",
       "      <td>AGENT DE NETTOYAGE</td>\n",
       "      <td>H</td>\n",
       "      <td>AGENT DE NETTOYAGE</td>\n",
       "      <td>1.0</td>\n",
       "      <td>2320.0</td>\n",
       "      <td>ESCOUT</td>\n",
       "      <td>...</td>\n",
       "      <td>Mannequinat</td>\n",
       "      <td>non</td>\n",
       "      <td>non</td>\n",
       "      <td>25.0</td>\n",
       "      <td>oui</td>\n",
       "      <td>non</td>\n",
       "      <td>non</td>\n",
       "      <td>non</td>\n",
       "      <td>non</td>\n",
       "      <td>50.0</td>\n",
       "    </tr>\n",
       "  </tbody>\n",
       "</table>\n",
       "<p>2 rows × 32 columns</p>\n",
       "</div>"
      ],
      "text/plain": [
       "      NOM    Prénom  CODE POSTAL      VILLE Dernier poste occupé (ou actuel)  \\\n",
       "0  HERZOG   Patrick      64230.0  SAUVAGNON              AGENT ADMINISTRATIF   \n",
       "1  MATHIS  JONATHAN      64870.0     ESCOUT               AGENT DE NETTOYAGE   \n",
       "\n",
       "  GENRE Mission recherchée : Exemple n°1 de poste (métier + secteur)  \\\n",
       "0     H                                AGENT ADMINISTRATIF             \n",
       "1     H                                 AGENT DE NETTOYAGE             \n",
       "\n",
       "   Quels sont vos niveaux de disponibilité ? TEXTE  \\\n",
       "0                                              1.0   \n",
       "1                                              1.0   \n",
       "\n",
       "   Niveau de rémunération mensuelle brute souhaitée  \\\n",
       "0                                            2280.0   \n",
       "1                                            2320.0   \n",
       "\n",
       "  Localisation géographique du poste (région, ville)  ...  \\\n",
       "0                                          SAUVAGNON  ...   \n",
       "1                                             ESCOUT  ...   \n",
       "\n",
       "  Quel type de contrat vous intéresse 3  \\\n",
       "0     Titulaire de la fonction publique   \n",
       "1                           Mannequinat   \n",
       "\n",
       "  Connaissez vous la différence entre ces types de contrats ?  \\\n",
       "0                                                oui            \n",
       "1                                                non            \n",
       "\n",
       "  Si non, souhaitez-vous vous plus d'informations ?  \\\n",
       "0                                               oui   \n",
       "1                                               non   \n",
       "\n",
       "  Vous souhaitez faire du télétravail (en % temps) 0- 20klm 21- 40klm  \\\n",
       "0                                            100.0      non       oui   \n",
       "1                                             25.0      oui       non   \n",
       "\n",
       "  41-60klm 61 - klm et plus Seriez-vous prêt à déménager pour ce futur job ?  \\\n",
       "0      non              non                                              oui   \n",
       "1      non              non                                              non   \n",
       "\n",
       "  Vous êtes prêt à faire des déplacements professionnels (en % temps)  \n",
       "0                                               25.0                   \n",
       "1                                               50.0                   \n",
       "\n",
       "[2 rows x 32 columns]"
      ]
     },
     "execution_count": 8,
     "metadata": {},
     "output_type": "execute_result"
    }
   ],
   "source": [
    "data_jobeur.head(2)"
   ]
  },
  {
   "cell_type": "code",
   "execution_count": 9,
   "metadata": {},
   "outputs": [
    {
     "data": {
      "text/html": [
       "<div>\n",
       "<style scoped>\n",
       "    .dataframe tbody tr th:only-of-type {\n",
       "        vertical-align: middle;\n",
       "    }\n",
       "\n",
       "    .dataframe tbody tr th {\n",
       "        vertical-align: top;\n",
       "    }\n",
       "\n",
       "    .dataframe thead th {\n",
       "        text-align: right;\n",
       "    }\n",
       "</style>\n",
       "<table border=\"1\" class=\"dataframe\">\n",
       "  <thead>\n",
       "    <tr style=\"text-align: right;\">\n",
       "      <th></th>\n",
       "      <th>Métier du poste</th>\n",
       "      <th>Quels types de contrats pour les embauchés - TEXTE</th>\n",
       "      <th>Temps de travail</th>\n",
       "      <th>niveau de rémunération</th>\n",
       "      <th>Localisation du poste</th>\n",
       "      <th>Mobilité</th>\n",
       "      <th>Comptétences pour le poste 1</th>\n",
       "      <th>Comptétences pour le poste 2</th>\n",
       "      <th>Comptétences pour le poste 3</th>\n",
       "      <th>Télétravail ( en %)</th>\n",
       "      <th>Poste avec du déplacement (en %) si 75 ramené a 100%</th>\n",
       "      <th>Cv obligatoire</th>\n",
       "      <th>nom</th>\n",
       "      <th>prénom</th>\n",
       "      <th>nom entreprise</th>\n",
       "      <th>adresse du siège</th>\n",
       "      <th>siret de l'entreprise</th>\n",
       "      <th>code NAF</th>\n",
       "    </tr>\n",
       "  </thead>\n",
       "  <tbody>\n",
       "    <tr>\n",
       "      <th>0</th>\n",
       "      <td>MANUTENTIONNAIRE</td>\n",
       "      <td>Contrat aidé ou aménagé (travailleur handicapé)</td>\n",
       "      <td>1.0</td>\n",
       "      <td>2050.0</td>\n",
       "      <td>ABIDOS</td>\n",
       "      <td>Permis de conduire</td>\n",
       "      <td>Créativité, générer des idées</td>\n",
       "      <td>Créativité, générer des idées</td>\n",
       "      <td>Confiance (en soi, en les autres et en l'avenir)</td>\n",
       "      <td>100.0</td>\n",
       "      <td>0.0</td>\n",
       "      <td>oui</td>\n",
       "      <td>LUCAZEAU</td>\n",
       "      <td>MARGALDO</td>\n",
       "      <td>CJS</td>\n",
       "      <td>ARTHEZ DE BEARN</td>\n",
       "      <td>5.092268e+08</td>\n",
       "      <td>8130Z</td>\n",
       "    </tr>\n",
       "    <tr>\n",
       "      <th>1</th>\n",
       "      <td>MANUTENTIONNAIRE</td>\n",
       "      <td>Temps partagé</td>\n",
       "      <td>1.0</td>\n",
       "      <td>2000.0</td>\n",
       "      <td>ABIDOS</td>\n",
       "      <td>Transports en commun</td>\n",
       "      <td>Visualisation, Zoom sur la mise en pratique de...</td>\n",
       "      <td>Communication, faire passer un message</td>\n",
       "      <td>Motivation, donner du sens au delà de la tâche...</td>\n",
       "      <td>75.0</td>\n",
       "      <td>25.0</td>\n",
       "      <td>non</td>\n",
       "      <td>BARCO</td>\n",
       "      <td>FREDERIC</td>\n",
       "      <td>REY-BETBEDER</td>\n",
       "      <td>LACQ</td>\n",
       "      <td>3.060009e+08</td>\n",
       "      <td>4399C</td>\n",
       "    </tr>\n",
       "  </tbody>\n",
       "</table>\n",
       "</div>"
      ],
      "text/plain": [
       "    Métier du poste Quels types de contrats pour les embauchés - TEXTE  \\\n",
       "0  MANUTENTIONNAIRE    Contrat aidé ou aménagé (travailleur handicapé)   \n",
       "1  MANUTENTIONNAIRE                                      Temps partagé   \n",
       "\n",
       "   Temps de travail  niveau de rémunération Localisation du poste  \\\n",
       "0               1.0                  2050.0                ABIDOS   \n",
       "1               1.0                  2000.0                ABIDOS   \n",
       "\n",
       "               Mobilité                       Comptétences pour le poste 1  \\\n",
       "0    Permis de conduire                      Créativité, générer des idées   \n",
       "1  Transports en commun  Visualisation, Zoom sur la mise en pratique de...   \n",
       "\n",
       "             Comptétences pour le poste 2  \\\n",
       "0           Créativité, générer des idées   \n",
       "1  Communication, faire passer un message   \n",
       "\n",
       "                        Comptétences pour le poste 3  Télétravail ( en %)  \\\n",
       "0   Confiance (en soi, en les autres et en l'avenir)                100.0   \n",
       "1  Motivation, donner du sens au delà de la tâche...                 75.0   \n",
       "\n",
       "   Poste avec du déplacement (en %) si 75 ramené a 100% Cv obligatoire   \\\n",
       "0                                                0.0                oui   \n",
       "1                                               25.0                non   \n",
       "\n",
       "        nom    prénom nom entreprise adresse du siège  siret de l'entreprise  \\\n",
       "0  LUCAZEAU  MARGALDO            CJS  ARTHEZ DE BEARN           5.092268e+08   \n",
       "1     BARCO  FREDERIC   REY-BETBEDER             LACQ           3.060009e+08   \n",
       "\n",
       "  code NAF   \n",
       "0     8130Z  \n",
       "1     4399C  "
      ]
     },
     "execution_count": 9,
     "metadata": {},
     "output_type": "execute_result"
    }
   ],
   "source": [
    "data_client.head(2)"
   ]
  },
  {
   "cell_type": "markdown",
   "metadata": {},
   "source": [
    "# Partie 2"
   ]
  },
  {
   "cell_type": "markdown",
   "metadata": {},
   "source": [
    "## Selection des variables significatives pour l'algorithme"
   ]
  },
  {
   "cell_type": "markdown",
   "metadata": {},
   "source": [
    "Pour utiliser notre algorithme qui calculera des différences, on aura affaire qu'à quelques variables bien spécifiques."
   ]
  },
  {
   "cell_type": "markdown",
   "metadata": {},
   "source": [
    "### JOBEUR"
   ]
  },
  {
   "cell_type": "markdown",
   "metadata": {},
   "source": [
    "Les variables dans **'DATA JOBEUR.xlsx'** dont on va se débarrasser sont:\n",
    "    \n",
    "        'Nom' et 'Prénom' : Ces deux variables sont clairement sans importance.\n",
    "        \n",
    "        'Genre' : Le genre ne définit pas l'efficacité dans le travail.\n",
    "        \n",
    "        'Si non, souhaitez-vous vous plus d'informations ?' : Variable sans importance.\n",
    "        \n",
    "        'Si vous avez un profil Linkedin ou un e-CV, coller le lien URL :' Variable sans importance.\n",
    "        \n",
    "        'Si vous avez un site internet, blog ou portfolio coller le lien URL' : Variable sans importance."
   ]
  },
  {
   "cell_type": "markdown",
   "metadata": {},
   "source": [
    "### CLIENT"
   ]
  },
  {
   "cell_type": "markdown",
   "metadata": {},
   "source": [
    "Les variables dans **'DATA CLIENT.xlsx'** dont on va se débarrasser sont: \n",
    "    \n",
    "        'Un site internet' : Variable sans importance.\n",
    "        \n",
    "        'CV obligatoire' : Variable sans importance.\n",
    "        \n",
    "        'Nom', 'Prénom' et 'Nom entreprise' : Variables sans importance.\n",
    "        \n",
    "        'Adresse du siège : La variable 'Localisation du poste' est suffisante.\n",
    "        \n",
    "        'Siret de l'entreprise' : Variable sans importance.\n",
    "        \n",
    "        'Code NAF' : Variable sans importance.      "
   ]
  },
  {
   "cell_type": "code",
   "execution_count": 10,
   "metadata": {},
   "outputs": [],
   "source": [
    "def Clear_Useless_Data(data_jobeur, data_client) :\n",
    "    Jobeur_Useless = ['NOM', 'Prénom', 'VILLE', 'GENRE', 'Connaissez vous la différence entre ces types de contrats ?']\n",
    "    Client_Useless = ['Cv obligatoire ', 'nom', 'prénom', 'nom entreprise', 'adresse du siège', \"siret de l'entreprise\", 'code NAF ']   \n",
    "    try:\n",
    "        for var in Jobeur_Useless :\n",
    "            del data_jobeur[var]\n",
    "    \n",
    "        for var in Client_Useless :\n",
    "            del data_client[var]\n",
    "    except Exception:\n",
    "        pass"
   ]
  },
  {
   "cell_type": "markdown",
   "metadata": {},
   "source": [
    "### Suppression des variables non significatives"
   ]
  },
  {
   "cell_type": "code",
   "execution_count": 11,
   "metadata": {},
   "outputs": [],
   "source": [
    "Clear_Useless_Data(data_jobeur, data_client)"
   ]
  },
  {
   "cell_type": "code",
   "execution_count": 12,
   "metadata": {},
   "outputs": [
    {
     "data": {
      "text/html": [
       "<div>\n",
       "<style scoped>\n",
       "    .dataframe tbody tr th:only-of-type {\n",
       "        vertical-align: middle;\n",
       "    }\n",
       "\n",
       "    .dataframe tbody tr th {\n",
       "        vertical-align: top;\n",
       "    }\n",
       "\n",
       "    .dataframe thead th {\n",
       "        text-align: right;\n",
       "    }\n",
       "</style>\n",
       "<table border=\"1\" class=\"dataframe\">\n",
       "  <thead>\n",
       "    <tr style=\"text-align: right;\">\n",
       "      <th></th>\n",
       "      <th>CODE POSTAL</th>\n",
       "      <th>Dernier poste occupé (ou actuel)</th>\n",
       "      <th>Mission recherchée : Exemple n°1 de poste (métier + secteur)</th>\n",
       "      <th>Quels sont vos niveaux de disponibilité ? TEXTE</th>\n",
       "      <th>Niveau de rémunération mensuelle brute souhaitée</th>\n",
       "      <th>Localisation géographique du poste (région, ville)</th>\n",
       "      <th>Quelle taille d'entreprise / organisation TEXTE</th>\n",
       "      <th>Voitures</th>\n",
       "      <th>Permis B</th>\n",
       "      <th>TPE - moins de 10 personnes</th>\n",
       "      <th>...</th>\n",
       "      <th>Quel type de contrat vous intéresse 2</th>\n",
       "      <th>Quel type de contrat vous intéresse 3</th>\n",
       "      <th>Si non, souhaitez-vous vous plus d'informations ?</th>\n",
       "      <th>Vous souhaitez faire du télétravail (en % temps)</th>\n",
       "      <th>0- 20klm</th>\n",
       "      <th>21- 40klm</th>\n",
       "      <th>41-60klm</th>\n",
       "      <th>61 - klm et plus</th>\n",
       "      <th>Seriez-vous prêt à déménager pour ce futur job ?</th>\n",
       "      <th>Vous êtes prêt à faire des déplacements professionnels (en % temps)</th>\n",
       "    </tr>\n",
       "  </thead>\n",
       "  <tbody>\n",
       "    <tr>\n",
       "      <th>0</th>\n",
       "      <td>64230.0</td>\n",
       "      <td>AGENT ADMINISTRATIF</td>\n",
       "      <td>AGENT ADMINISTRATIF</td>\n",
       "      <td>1.0</td>\n",
       "      <td>2280.0</td>\n",
       "      <td>SAUVAGNON</td>\n",
       "      <td>ETI</td>\n",
       "      <td>Véhiculé avec voiture</td>\n",
       "      <td>oui</td>\n",
       "      <td>non</td>\n",
       "      <td>...</td>\n",
       "      <td>Militaire</td>\n",
       "      <td>Titulaire de la fonction publique</td>\n",
       "      <td>oui</td>\n",
       "      <td>100.0</td>\n",
       "      <td>non</td>\n",
       "      <td>oui</td>\n",
       "      <td>non</td>\n",
       "      <td>non</td>\n",
       "      <td>oui</td>\n",
       "      <td>25.0</td>\n",
       "    </tr>\n",
       "    <tr>\n",
       "      <th>1</th>\n",
       "      <td>64870.0</td>\n",
       "      <td>AGENT DE NETTOYAGE</td>\n",
       "      <td>AGENT DE NETTOYAGE</td>\n",
       "      <td>1.0</td>\n",
       "      <td>2320.0</td>\n",
       "      <td>ESCOUT</td>\n",
       "      <td>ETI</td>\n",
       "      <td>Véhiculé avec voiture</td>\n",
       "      <td>oui</td>\n",
       "      <td>non</td>\n",
       "      <td>...</td>\n",
       "      <td>Cdic (bâtiment)</td>\n",
       "      <td>Mannequinat</td>\n",
       "      <td>non</td>\n",
       "      <td>25.0</td>\n",
       "      <td>oui</td>\n",
       "      <td>non</td>\n",
       "      <td>non</td>\n",
       "      <td>non</td>\n",
       "      <td>non</td>\n",
       "      <td>50.0</td>\n",
       "    </tr>\n",
       "  </tbody>\n",
       "</table>\n",
       "<p>2 rows × 27 columns</p>\n",
       "</div>"
      ],
      "text/plain": [
       "   CODE POSTAL Dernier poste occupé (ou actuel)  \\\n",
       "0      64230.0              AGENT ADMINISTRATIF   \n",
       "1      64870.0               AGENT DE NETTOYAGE   \n",
       "\n",
       "  Mission recherchée : Exemple n°1 de poste (métier + secteur)  \\\n",
       "0                                AGENT ADMINISTRATIF             \n",
       "1                                 AGENT DE NETTOYAGE             \n",
       "\n",
       "   Quels sont vos niveaux de disponibilité ? TEXTE  \\\n",
       "0                                              1.0   \n",
       "1                                              1.0   \n",
       "\n",
       "   Niveau de rémunération mensuelle brute souhaitée  \\\n",
       "0                                            2280.0   \n",
       "1                                            2320.0   \n",
       "\n",
       "  Localisation géographique du poste (région, ville)  \\\n",
       "0                                          SAUVAGNON   \n",
       "1                                             ESCOUT   \n",
       "\n",
       "  Quelle taille d'entreprise / organisation TEXTE               Voitures  \\\n",
       "0                                             ETI  Véhiculé avec voiture   \n",
       "1                                             ETI  Véhiculé avec voiture   \n",
       "\n",
       "  Permis B TPE - moins de 10 personnes  ...  \\\n",
       "0      oui                         non  ...   \n",
       "1      oui                         non  ...   \n",
       "\n",
       "  Quel type de contrat vous intéresse 2 Quel type de contrat vous intéresse 3  \\\n",
       "0                             Militaire     Titulaire de la fonction publique   \n",
       "1                       Cdic (bâtiment)                           Mannequinat   \n",
       "\n",
       "  Si non, souhaitez-vous vous plus d'informations ?  \\\n",
       "0                                               oui   \n",
       "1                                               non   \n",
       "\n",
       "  Vous souhaitez faire du télétravail (en % temps) 0- 20klm 21- 40klm  \\\n",
       "0                                            100.0      non       oui   \n",
       "1                                             25.0      oui       non   \n",
       "\n",
       "  41-60klm 61 - klm et plus Seriez-vous prêt à déménager pour ce futur job ?  \\\n",
       "0      non              non                                              oui   \n",
       "1      non              non                                              non   \n",
       "\n",
       "  Vous êtes prêt à faire des déplacements professionnels (en % temps)  \n",
       "0                                               25.0                   \n",
       "1                                               50.0                   \n",
       "\n",
       "[2 rows x 27 columns]"
      ]
     },
     "execution_count": 12,
     "metadata": {},
     "output_type": "execute_result"
    }
   ],
   "source": [
    "data_jobeur.head(2)"
   ]
  },
  {
   "cell_type": "code",
   "execution_count": 13,
   "metadata": {},
   "outputs": [
    {
     "data": {
      "text/html": [
       "<div>\n",
       "<style scoped>\n",
       "    .dataframe tbody tr th:only-of-type {\n",
       "        vertical-align: middle;\n",
       "    }\n",
       "\n",
       "    .dataframe tbody tr th {\n",
       "        vertical-align: top;\n",
       "    }\n",
       "\n",
       "    .dataframe thead th {\n",
       "        text-align: right;\n",
       "    }\n",
       "</style>\n",
       "<table border=\"1\" class=\"dataframe\">\n",
       "  <thead>\n",
       "    <tr style=\"text-align: right;\">\n",
       "      <th></th>\n",
       "      <th>Métier du poste</th>\n",
       "      <th>Quels types de contrats pour les embauchés - TEXTE</th>\n",
       "      <th>Temps de travail</th>\n",
       "      <th>niveau de rémunération</th>\n",
       "      <th>Localisation du poste</th>\n",
       "      <th>Mobilité</th>\n",
       "      <th>Comptétences pour le poste 1</th>\n",
       "      <th>Comptétences pour le poste 2</th>\n",
       "      <th>Comptétences pour le poste 3</th>\n",
       "      <th>Télétravail ( en %)</th>\n",
       "      <th>Poste avec du déplacement (en %) si 75 ramené a 100%</th>\n",
       "    </tr>\n",
       "  </thead>\n",
       "  <tbody>\n",
       "    <tr>\n",
       "      <th>0</th>\n",
       "      <td>MANUTENTIONNAIRE</td>\n",
       "      <td>Contrat aidé ou aménagé (travailleur handicapé)</td>\n",
       "      <td>1.0</td>\n",
       "      <td>2050.0</td>\n",
       "      <td>ABIDOS</td>\n",
       "      <td>Permis de conduire</td>\n",
       "      <td>Créativité, générer des idées</td>\n",
       "      <td>Créativité, générer des idées</td>\n",
       "      <td>Confiance (en soi, en les autres et en l'avenir)</td>\n",
       "      <td>100.0</td>\n",
       "      <td>0.0</td>\n",
       "    </tr>\n",
       "    <tr>\n",
       "      <th>1</th>\n",
       "      <td>MANUTENTIONNAIRE</td>\n",
       "      <td>Temps partagé</td>\n",
       "      <td>1.0</td>\n",
       "      <td>2000.0</td>\n",
       "      <td>ABIDOS</td>\n",
       "      <td>Transports en commun</td>\n",
       "      <td>Visualisation, Zoom sur la mise en pratique de...</td>\n",
       "      <td>Communication, faire passer un message</td>\n",
       "      <td>Motivation, donner du sens au delà de la tâche...</td>\n",
       "      <td>75.0</td>\n",
       "      <td>25.0</td>\n",
       "    </tr>\n",
       "  </tbody>\n",
       "</table>\n",
       "</div>"
      ],
      "text/plain": [
       "    Métier du poste Quels types de contrats pour les embauchés - TEXTE  \\\n",
       "0  MANUTENTIONNAIRE    Contrat aidé ou aménagé (travailleur handicapé)   \n",
       "1  MANUTENTIONNAIRE                                      Temps partagé   \n",
       "\n",
       "   Temps de travail  niveau de rémunération Localisation du poste  \\\n",
       "0               1.0                  2050.0                ABIDOS   \n",
       "1               1.0                  2000.0                ABIDOS   \n",
       "\n",
       "               Mobilité                       Comptétences pour le poste 1  \\\n",
       "0    Permis de conduire                      Créativité, générer des idées   \n",
       "1  Transports en commun  Visualisation, Zoom sur la mise en pratique de...   \n",
       "\n",
       "             Comptétences pour le poste 2  \\\n",
       "0           Créativité, générer des idées   \n",
       "1  Communication, faire passer un message   \n",
       "\n",
       "                        Comptétences pour le poste 3  Télétravail ( en %)  \\\n",
       "0   Confiance (en soi, en les autres et en l'avenir)                100.0   \n",
       "1  Motivation, donner du sens au delà de la tâche...                 75.0   \n",
       "\n",
       "   Poste avec du déplacement (en %) si 75 ramené a 100%  \n",
       "0                                                0.0     \n",
       "1                                               25.0     "
      ]
     },
     "execution_count": 13,
     "metadata": {},
     "output_type": "execute_result"
    }
   ],
   "source": [
    "data_client.head(2)"
   ]
  },
  {
   "cell_type": "markdown",
   "metadata": {},
   "source": [
    "# Partie 3"
   ]
  },
  {
   "cell_type": "markdown",
   "metadata": {},
   "source": [
    "## Transformation des variables qualitatives en variables quantitatives"
   ]
  },
  {
   "cell_type": "markdown",
   "metadata": {},
   "source": [
    "Durant cette partie, on va utiliser des variables *dummy* pour nos variables qualitatives dans le but de pouvoir quantifier la différence entre ces variables.\n",
    "\n",
    "#### Exemple:\n",
    "\n",
    "Dans les variables **'Vos compétences'** dans **'DATA JOBEUR.xlsx'** et **'Compétences pour le poste'** dans **'DATA CLIENT.xlsx'**, on va transformer les différentes qualités comme **'Motivation'**, **'Vision'** et autres comme colonnes possédant des valeurs binaires.\n",
    "\n",
    "Ainsi, si l'individu $x_i$ possède la qualité **'Motivation'**, on aura une valeur de $1$ dans la colonne **'Motivation'** de cet individu."
   ]
  },
  {
   "cell_type": "code",
   "execution_count": 14,
   "metadata": {},
   "outputs": [],
   "source": [
    "def conversion_variable_quali(data_set, list_variable_qualitative):\n",
    "    for colonne in list_variable_qualitative:\n",
    "        dummy_df = pd.get_dummies(data_set[colonne], dummy_na=False)\n",
    "        data_set = data_set.drop(colonne, axis='columns')\n",
    "        for i in dummy_df:\n",
    "            if i not in data_set.columns:\n",
    "                data_set = pd.concat([data_set, dummy_df[i]], axis= 'columns')\n",
    "    return data_set"
   ]
  },
  {
   "cell_type": "code",
   "execution_count": 15,
   "metadata": {},
   "outputs": [],
   "source": [
    "dataCLIENT = conversion_variable_quali(data_client, [\"Comptétences pour le poste 1\", \"Comptétences pour le poste 2\", \n",
    "                                                     \"Comptétences pour le poste 3\"])"
   ]
  },
  {
   "cell_type": "code",
   "execution_count": 16,
   "metadata": {},
   "outputs": [],
   "source": [
    "dataJOBEUR = conversion_variable_quali(data_jobeur, [\"Vos compétences 1\", \"Vos compétences 2\", \"Vos compétences 3\"])"
   ]
  },
  {
   "cell_type": "code",
   "execution_count": 17,
   "metadata": {},
   "outputs": [
    {
     "data": {
      "text/plain": [
       "Index(['CODE POSTAL', 'Dernier poste occupé (ou actuel)',\n",
       "       'Mission recherchée : Exemple n°1 de poste (métier + secteur)',\n",
       "       'Quels sont vos niveaux de disponibilité ? TEXTE',\n",
       "       'Niveau de rémunération mensuelle brute souhaitée',\n",
       "       'Localisation géographique du poste (région, ville)',\n",
       "       'Quelle taille d'entreprise / organisation TEXTE', 'Voitures',\n",
       "       'Permis B', 'TPE - moins de 10 personnes', 'PME 10 à 250 personnes',\n",
       "       'ETI 250 à 5000', 'GRAND GROUPE - Plus de 500 personnes',\n",
       "       'Quel type de contrat vous intéresse 1',\n",
       "       'Quel type de contrat vous intéresse 2',\n",
       "       'Quel type de contrat vous intéresse 3',\n",
       "       'Si non, souhaitez-vous vous plus d'informations ?',\n",
       "       'Vous souhaitez faire du télétravail (en % temps)', '0- 20klm',\n",
       "       '21- 40klm', '41-60klm', '61 - klm et plus',\n",
       "       'Seriez-vous prêt à déménager pour ce futur job ?',\n",
       "       'Vous êtes prêt à faire des déplacements professionnels (en % temps)',\n",
       "       'Audace, capacité à oser', 'Capacité et application d'une consigne',\n",
       "       'Communication, faire passer un message',\n",
       "       'Confiance (en soi, en les autres et en l'avenir)',\n",
       "       'Créativité, générer des idées', 'Curiosité, aimer apprendre',\n",
       "       'Empathie, comprendre la réalité', 'Esprit d'entreprendre, proactivité',\n",
       "       'Gestion du stress', 'Intelligence émotionnelle', 'Motivation',\n",
       "       'Organisation du temps, respect de dates buttoires', 'Ponctualité',\n",
       "       'Présence, capacité de concentration', 'Résolution de problème',\n",
       "       'Sens du collectif, partage', 'Vision',\n",
       "       'Visualisation, Zoom sur la mise en pratique des méthodes concrètes',\n",
       "       'Bon jugement', 'Sympatique', 'Créativité'],\n",
       "      dtype='object')"
      ]
     },
     "execution_count": 17,
     "metadata": {},
     "output_type": "execute_result"
    }
   ],
   "source": [
    "dataJOBEUR.columns"
   ]
  },
  {
   "cell_type": "code",
   "execution_count": 18,
   "metadata": {},
   "outputs": [
    {
     "data": {
      "text/plain": [
       "Index(['Métier du poste', 'Quels types de contrats pour les embauchés - TEXTE',\n",
       "       'Temps de travail', 'niveau de rémunération', 'Localisation du poste',\n",
       "       'Mobilité', 'Télétravail ( en %)',\n",
       "       'Poste avec du déplacement (en %) si 75 ramené a 100%',\n",
       "       'Audace, capacité à oser', 'Capacité et application d'une consigne',\n",
       "       'Communication, faire passer un message',\n",
       "       'Confiance (en soi, en les autres et en l'avenir)',\n",
       "       'Créativité, générer des idées', 'Curiosité, aimer apprendre',\n",
       "       'Empathie, comprendre la réalité', 'Esprit d'entreprendre, proactivité',\n",
       "       'Gestion du stress', 'Intelligence émotionnelle',\n",
       "       'Motivation, donner du sens au delà de la tâche à effectuer',\n",
       "       'Organisation du temps, respect de dates buttoires', 'Ponctualité',\n",
       "       'Présence, capacité de concentration', 'Résolution de problème',\n",
       "       'Sens du collectif, partage',\n",
       "       'Vision, voir le chemin pour arriver à l'objectif (dézoom)',\n",
       "       'Visualisation, Zoom sur la mise en pratique des méthodes concrètes'],\n",
       "      dtype='object')"
      ]
     },
     "execution_count": 18,
     "metadata": {},
     "output_type": "execute_result"
    }
   ],
   "source": [
    "dataCLIENT.columns"
   ]
  },
  {
   "cell_type": "markdown",
   "metadata": {},
   "source": [
    "# Partie 4"
   ]
  },
  {
   "cell_type": "markdown",
   "metadata": {},
   "source": [
    "Durant cette partie, on exécutera notre algorithme. Cependant, il est impératif de faire des traitements additionnels pour le bon fonctionnement de ce dernier."
   ]
  },
  {
   "cell_type": "markdown",
   "metadata": {},
   "source": [
    "## Traitements additionnels"
   ]
  },
  {
   "cell_type": "markdown",
   "metadata": {},
   "source": [
    "### (1) Correction"
   ]
  },
  {
   "cell_type": "markdown",
   "metadata": {},
   "source": [
    "On va faire un traitement additionnel, question d'homogénéiser  les noms des variables entre les données Client et les données Jobeur."
   ]
  },
  {
   "cell_type": "code",
   "execution_count": 19,
   "metadata": {},
   "outputs": [],
   "source": [
    "dataCLIENT.rename(columns = {\"Vision, voir le chemin pour arriver à l'objectif (dézoom)\":'Vision', 'Motivation, donner du sens au delà de la tâche à effectuer':'Motivation'}, inplace = True)"
   ]
  },
  {
   "cell_type": "markdown",
   "metadata": {},
   "source": [
    "### (2) Localisation"
   ]
  },
  {
   "cell_type": "markdown",
   "metadata": {},
   "source": [
    "On va faire un deuxième traitement pour une heuristique qui calculera la distance au niveau de la localisation des deux données.\n",
    "\n",
    "L'idée est qu'on va calculer la distance $d_{local}$ entre **la localisation de l'entreprise (CLIENT)** et **la localisation de l'individu (JOBEUR).**\n",
    "\n",
    "Cette distance va être multipliée par $5$ variables binaires $a, b, c, d$ et $e$.\n",
    "\n",
    "$a = \\text{\\{$0$ si la personne est prête à parcourir la distance $0-20klm$; $1$ sinon\\}}$\n",
    "$b = \\text{\\{$0$ si la personne est prête à parcourir la distance $21-40klm$; $1$ sinon\\}}$\n",
    "$c = \\text{\\{$0$ si la personne est prête à parcourir la distance $41-60klm$; $1$ sinon\\}}$\n",
    "$d = \\text{\\{$0$ si la personne est prête à parcourir plus de $61klm$; $1$ sinon\\}}$\n",
    "$e = \\text{\\{$0$ si la personne est prête à déménager pour son travail; $1$ sinon\\}}$\n",
    "\n",
    "Notre heuristique sera alors: \n",
    "\n",
    "$h_{local} = a*b*c*d*e*d_{local}$"
   ]
  },
  {
   "cell_type": "markdown",
   "metadata": {},
   "source": [
    "#### (2.2) Calcul de $d_{local}$\n",
    "\n",
    "Pour calculer $d_{local}$, on va tout d'abord récupérer les codes postaux respectives de **(CLIENT)** et **(JOBEUR)**. Cependant, il n'y a pas de code postal fourni dans les données **CLIENT** mais que les noms des villes.\n",
    "\n",
    "On a choisi d'éviter d'utiliser un **API** parce que ce dernier est limité et coûteux.\n",
    "\n",
    "##### (2.2.1) Récupérer les codes postales CLIENT"
   ]
  },
  {
   "cell_type": "code",
   "execution_count": 20,
   "metadata": {},
   "outputs": [],
   "source": [
    "import unidecode"
   ]
  },
  {
   "cell_type": "code",
   "execution_count": 21,
   "metadata": {},
   "outputs": [],
   "source": [
    "def Transform_Ville_CodePostal(bdd, data):\n",
    "    CodePostals = []\n",
    "    for i in data['Localisation du poste']:\n",
    "        i = i.replace(\"-\", \" \")\n",
    "        i = unidecode.unidecode(i)\n",
    "        i = i.upper()\n",
    "        result = Ville_CodePostal.loc[Ville_CodePostal['nom_de_la_commune'] == i]['code_postal']\n",
    "        try:\n",
    "            CodePostals = CodePostals + [result.values[0]]\n",
    "        except Exception:\n",
    "            # <!> POUR EVITER DES BUGS A CAUSE DE L'ABSENCE DE LA VILLE/COMMUNE DU CLIENT DANS LA BASE DE DONNEES <!>\n",
    "            CodePostals = CodePostals + [64000]\n",
    "    data['Localisation du poste'] = list(map(int, CodePostals))"
   ]
  },
  {
   "cell_type": "code",
   "execution_count": 22,
   "metadata": {},
   "outputs": [
    {
     "data": {
      "text/html": [
       "<div>\n",
       "<style scoped>\n",
       "    .dataframe tbody tr th:only-of-type {\n",
       "        vertical-align: middle;\n",
       "    }\n",
       "\n",
       "    .dataframe tbody tr th {\n",
       "        vertical-align: top;\n",
       "    }\n",
       "\n",
       "    .dataframe thead th {\n",
       "        text-align: right;\n",
       "    }\n",
       "</style>\n",
       "<table border=\"1\" class=\"dataframe\">\n",
       "  <thead>\n",
       "    <tr style=\"text-align: right;\">\n",
       "      <th></th>\n",
       "      <th>nom_de_la_commune</th>\n",
       "      <th>code_postal</th>\n",
       "    </tr>\n",
       "  </thead>\n",
       "  <tbody>\n",
       "    <tr>\n",
       "      <th>0</th>\n",
       "      <td>VILLARS LES BLAMONT</td>\n",
       "      <td>25310</td>\n",
       "    </tr>\n",
       "    <tr>\n",
       "      <th>1</th>\n",
       "      <td>LES VILLEDIEU</td>\n",
       "      <td>25240</td>\n",
       "    </tr>\n",
       "    <tr>\n",
       "      <th>2</th>\n",
       "      <td>VILLERS BUZON</td>\n",
       "      <td>25170</td>\n",
       "    </tr>\n",
       "    <tr>\n",
       "      <th>3</th>\n",
       "      <td>VILLERS LA COMBE</td>\n",
       "      <td>25510</td>\n",
       "    </tr>\n",
       "    <tr>\n",
       "      <th>4</th>\n",
       "      <td>VILLERS SOUS CHALAMONT</td>\n",
       "      <td>25270</td>\n",
       "    </tr>\n",
       "  </tbody>\n",
       "</table>\n",
       "</div>"
      ],
      "text/plain": [
       "        nom_de_la_commune  code_postal\n",
       "0     VILLARS LES BLAMONT        25310\n",
       "1           LES VILLEDIEU        25240\n",
       "2           VILLERS BUZON        25170\n",
       "3        VILLERS LA COMBE        25510\n",
       "4  VILLERS SOUS CHALAMONT        25270"
      ]
     },
     "execution_count": 22,
     "metadata": {},
     "output_type": "execute_result"
    }
   ],
   "source": [
    "Ville_CodePostal = pd.read_csv('./BDD_CodePostal.csv')\n",
    "Ville_CodePostal.head()"
   ]
  },
  {
   "cell_type": "code",
   "execution_count": 23,
   "metadata": {
    "scrolled": false
   },
   "outputs": [],
   "source": [
    "Transform_Ville_CodePostal(Ville_CodePostal, dataCLIENT)"
   ]
  },
  {
   "cell_type": "markdown",
   "metadata": {},
   "source": [
    "##### (2.2.2) Calcul de la distance"
   ]
  },
  {
   "cell_type": "code",
   "execution_count": 24,
   "metadata": {},
   "outputs": [],
   "source": [
    "import pgeocode\n",
    "def Distance_CodePostal(codePostal1, codePostal2) :\n",
    "  dist = pgeocode.GeoDistance('fr')\n",
    "  return dist.query_postal_code(codePostal1, codePostal2)"
   ]
  },
  {
   "cell_type": "code",
   "execution_count": 25,
   "metadata": {},
   "outputs": [
    {
     "name": "stdout",
     "output_type": "stream",
     "text": [
      "650.4988436904562 km\n"
     ]
    }
   ],
   "source": [
    "print(Distance_CodePostal ('75000', '64000'), 'km')"
   ]
  },
  {
   "cell_type": "markdown",
   "metadata": {},
   "source": [
    "#### (2.3) Tranformations pour les variables $a, b, c, d$ et $e$"
   ]
  },
  {
   "cell_type": "markdown",
   "metadata": {},
   "source": [
    "##### (2.3.1) Homogénéisation"
   ]
  },
  {
   "cell_type": "code",
   "execution_count": 26,
   "metadata": {},
   "outputs": [],
   "source": [
    "dataJOBEUR.columns\n",
    "\n",
    "dataJOBEUR.rename(columns = {'0- 20klm': '0-20klm'}, inplace = True)\n",
    "dataJOBEUR.rename(columns = {'21- 40klm': '21-40klm'}, inplace = True)\n",
    "dataJOBEUR.rename(columns = {'41- 60klm': '41-60klm'}, inplace = True)\n",
    "dataJOBEUR.rename(columns = {'61 - klm et plus': '61-klm et plus'}, inplace = True)"
   ]
  },
  {
   "cell_type": "markdown",
   "metadata": {},
   "source": [
    "##### (2.3.2) Transformation"
   ]
  },
  {
   "cell_type": "code",
   "execution_count": 27,
   "metadata": {},
   "outputs": [],
   "source": [
    "dataJOBEUR.loc[dataJOBEUR['0-20klm'] == 'oui', '0-20klm'] = 0\n",
    "dataJOBEUR.loc[dataJOBEUR['21-40klm'] == 'oui', '21-40klm'] = 0\n",
    "dataJOBEUR.loc[dataJOBEUR['41-60klm'] == 'oui', '41-60klm'] = 0\n",
    "dataJOBEUR.loc[dataJOBEUR['61-klm et plus'] == 'oui', '61-klm et plus'] = 0\n",
    "dataJOBEUR.loc[dataJOBEUR['0-20klm'] == 'non', '0-20klm'] = 1\n",
    "dataJOBEUR.loc[dataJOBEUR['21-40klm'] == 'non', '21-40klm'] = 1\n",
    "dataJOBEUR.loc[dataJOBEUR['41-60klm'] == 'non', '41-60klm'] = 1\n",
    "dataJOBEUR.loc[dataJOBEUR['61-klm et plus'] == 'non', '61-klm et plus'] = 1\n",
    "dataJOBEUR.loc[dataJOBEUR['Seriez-vous prêt à déménager pour ce futur job ?'] == 'oui', 'Seriez-vous prêt à déménager pour ce futur job ?'] = 0\n",
    "dataJOBEUR.loc[dataJOBEUR['Seriez-vous prêt à déménager pour ce futur job ?'] == 'non', 'Seriez-vous prêt à déménager pour ce futur job ?'] = 1"
   ]
  },
  {
   "cell_type": "markdown",
   "metadata": {},
   "source": [
    "Ensuite, on fait un troisième traitement pour homogénéiser au niveau des variables en relation avec la mobilité."
   ]
  },
  {
   "cell_type": "code",
   "execution_count": 28,
   "metadata": {},
   "outputs": [],
   "source": [
    "dataJOBEUR.loc[dataJOBEUR['Voitures'] == 'Véhiculé avec voiture', 'Voitures'] = 'Voiture'\n",
    "dataJOBEUR.loc[dataJOBEUR['Voitures'] == 'Deux roues à moteur', 'Voitures'] = 'Véhicule 2 roues'\n",
    "dataJOBEUR.loc[dataJOBEUR['Voitures'] == 'Pas de véhicule', 'Voitures'] = 'Transports en commun'\n",
    "dataJOBEUR.rename(columns = {\"Permis B\": 'Permis de conduire'}, inplace = True)\n",
    "dataJOBEUR.loc[dataJOBEUR['Permis de conduire'] == 'oui', 'Permis de conduire'] = 1\n",
    "dataJOBEUR.loc[dataJOBEUR['Permis de conduire'] == 'non', 'Permis de conduire'] = 0"
   ]
  },
  {
   "cell_type": "code",
   "execution_count": 29,
   "metadata": {},
   "outputs": [],
   "source": [
    "dataJOBEUR = conversion_variable_quali(dataJOBEUR, ['Voitures'])\n",
    "dataCLIENT = conversion_variable_quali(dataCLIENT, ['Mobilité'])"
   ]
  },
  {
   "cell_type": "markdown",
   "metadata": {},
   "source": [
    "Après, on homogénéise les noms des colonnes."
   ]
  },
  {
   "cell_type": "code",
   "execution_count": 30,
   "metadata": {},
   "outputs": [],
   "source": [
    "L = ['Métier du poste', 'Temps de travail', 'Niveau de rémunération', 'Télétravail (en %)', 'Poste avec du déplacement (en %)']\n",
    "# JOBEUR\n",
    "dataJOBEUR.rename(columns = {'Mission recherchée : Exemple n°1 de poste (métier + secteur)': L[0]}, inplace = True)\n",
    "dataJOBEUR.rename(columns = {'Quels sont vos niveaux de disponibilité ? TEXTE': L[1]}, inplace = True)\n",
    "dataJOBEUR.rename(columns = {'Niveau de rémunération mensuelle brute souhaitée': L[2]}, inplace = True)\n",
    "dataJOBEUR.rename(columns = {'Vous souhaitez faire du télétravail (en % temps)': L[3]}, inplace = True)\n",
    "dataJOBEUR.rename(columns = {'Vous êtes prêt à faire des déplacements professionnels (en % temps)': L[4]}, inplace = True)\n",
    "dataJOBEUR.rename(columns = {'Localisation géographique du poste (région, ville)': 'Ville'}, inplace = True)\n",
    "dataJOBEUR.rename(columns = {'Vdi (vendeur à doicile indépendant)': 'Vdi (vendeur à domicile indépendant)'}, inplace = True)\n",
    "dataJOBEUR.rename(columns = {'Alternance, appentissage': 'Alternance-appentissage'}, inplace = True)\n",
    "dataJOBEUR.rename(columns = {'CODE POSTAL': 'Code Postal'}, inplace = True)\n",
    "dataCLIENT.rename(columns = {'Quels types de contrats pour les embauchés - TEXTE': 'Quels types de contrats pour les embauchés'}, inplace = True)\n",
    "\n",
    "# CLIENT\n",
    "dataCLIENT.rename(columns = {'niveau de rémunération': 'Niveau de rémunération'}, inplace = True)\n",
    "dataCLIENT.rename(columns = {'Télétravail ( en %)': 'Télétravail (en %)'}, inplace = True)\n",
    "dataCLIENT.rename(columns = {'Poste avec du déplacement (en %) si 75 ramené a 100%': 'Poste avec du déplacement (en %)'}, inplace = True)\n",
    "dataCLIENT.rename(columns = {'Localisation du poste': 'Code Postal'}, inplace = True)"
   ]
  },
  {
   "cell_type": "markdown",
   "metadata": {},
   "source": [
    "Enfin, on garde les valeurs dont on a besoin."
   ]
  },
  {
   "cell_type": "code",
   "execution_count": 31,
   "metadata": {},
   "outputs": [
    {
     "data": {
      "text/plain": [
       "Index(['Code Postal', 'Dernier poste occupé (ou actuel)', 'Métier du poste',\n",
       "       'Temps de travail', 'Niveau de rémunération', 'Ville',\n",
       "       'Quelle taille d'entreprise / organisation TEXTE', 'Permis de conduire',\n",
       "       'TPE - moins de 10 personnes', 'PME 10 à 250 personnes',\n",
       "       'ETI 250 à 5000', 'GRAND GROUPE - Plus de 500 personnes',\n",
       "       'Quel type de contrat vous intéresse 1',\n",
       "       'Quel type de contrat vous intéresse 2',\n",
       "       'Quel type de contrat vous intéresse 3',\n",
       "       'Si non, souhaitez-vous vous plus d'informations ?',\n",
       "       'Télétravail (en %)', '0-20klm', '21-40klm', '41-60klm',\n",
       "       '61-klm et plus', 'Seriez-vous prêt à déménager pour ce futur job ?',\n",
       "       'Poste avec du déplacement (en %)', 'Audace, capacité à oser',\n",
       "       'Capacité et application d'une consigne',\n",
       "       'Communication, faire passer un message',\n",
       "       'Confiance (en soi, en les autres et en l'avenir)',\n",
       "       'Créativité, générer des idées', 'Curiosité, aimer apprendre',\n",
       "       'Empathie, comprendre la réalité', 'Esprit d'entreprendre, proactivité',\n",
       "       'Gestion du stress', 'Intelligence émotionnelle', 'Motivation',\n",
       "       'Organisation du temps, respect de dates buttoires', 'Ponctualité',\n",
       "       'Présence, capacité de concentration', 'Résolution de problème',\n",
       "       'Sens du collectif, partage', 'Vision',\n",
       "       'Visualisation, Zoom sur la mise en pratique des méthodes concrètes',\n",
       "       'Bon jugement', 'Sympatique', 'Créativité', 'Transports en commun',\n",
       "       'Voiture', 'Véhicule 2 roues'],\n",
       "      dtype='object')"
      ]
     },
     "execution_count": 31,
     "metadata": {},
     "output_type": "execute_result"
    }
   ],
   "source": [
    "dataJOBEUR.columns"
   ]
  },
  {
   "cell_type": "code",
   "execution_count": 32,
   "metadata": {},
   "outputs": [
    {
     "data": {
      "text/plain": [
       "Index(['Métier du poste', 'Quels types de contrats pour les embauchés',\n",
       "       'Temps de travail', 'Niveau de rémunération', 'Code Postal',\n",
       "       'Télétravail (en %)', 'Poste avec du déplacement (en %)',\n",
       "       'Audace, capacité à oser', 'Capacité et application d'une consigne',\n",
       "       'Communication, faire passer un message',\n",
       "       'Confiance (en soi, en les autres et en l'avenir)',\n",
       "       'Créativité, générer des idées', 'Curiosité, aimer apprendre',\n",
       "       'Empathie, comprendre la réalité', 'Esprit d'entreprendre, proactivité',\n",
       "       'Gestion du stress', 'Intelligence émotionnelle', 'Motivation',\n",
       "       'Organisation du temps, respect de dates buttoires', 'Ponctualité',\n",
       "       'Présence, capacité de concentration', 'Résolution de problème',\n",
       "       'Sens du collectif, partage', 'Vision',\n",
       "       'Visualisation, Zoom sur la mise en pratique des méthodes concrètes',\n",
       "       'Permis de conduire', 'Transports en commun', 'Voiture',\n",
       "       'Véhicule 2 roues'],\n",
       "      dtype='object')"
      ]
     },
     "execution_count": 32,
     "metadata": {},
     "output_type": "execute_result"
    }
   ],
   "source": [
    "dataCLIENT.columns"
   ]
  },
  {
   "cell_type": "code",
   "execution_count": 33,
   "metadata": {},
   "outputs": [
    {
     "data": {
      "text/html": [
       "<div>\n",
       "<style scoped>\n",
       "    .dataframe tbody tr th:only-of-type {\n",
       "        vertical-align: middle;\n",
       "    }\n",
       "\n",
       "    .dataframe tbody tr th {\n",
       "        vertical-align: top;\n",
       "    }\n",
       "\n",
       "    .dataframe thead th {\n",
       "        text-align: right;\n",
       "    }\n",
       "</style>\n",
       "<table border=\"1\" class=\"dataframe\">\n",
       "  <thead>\n",
       "    <tr style=\"text-align: right;\">\n",
       "      <th></th>\n",
       "      <th>Métier du poste</th>\n",
       "      <th>Quels types de contrats pour les embauchés</th>\n",
       "      <th>Temps de travail</th>\n",
       "      <th>Niveau de rémunération</th>\n",
       "      <th>Code Postal</th>\n",
       "      <th>Télétravail (en %)</th>\n",
       "      <th>Poste avec du déplacement (en %)</th>\n",
       "      <th>Audace, capacité à oser</th>\n",
       "      <th>Capacité et application d'une consigne</th>\n",
       "      <th>Communication, faire passer un message</th>\n",
       "      <th>...</th>\n",
       "      <th>Ponctualité</th>\n",
       "      <th>Présence, capacité de concentration</th>\n",
       "      <th>Résolution de problème</th>\n",
       "      <th>Sens du collectif, partage</th>\n",
       "      <th>Vision</th>\n",
       "      <th>Visualisation, Zoom sur la mise en pratique des méthodes concrètes</th>\n",
       "      <th>Permis de conduire</th>\n",
       "      <th>Transports en commun</th>\n",
       "      <th>Voiture</th>\n",
       "      <th>Véhicule 2 roues</th>\n",
       "    </tr>\n",
       "  </thead>\n",
       "  <tbody>\n",
       "    <tr>\n",
       "      <th>0</th>\n",
       "      <td>MANUTENTIONNAIRE</td>\n",
       "      <td>Contrat aidé ou aménagé (travailleur handicapé)</td>\n",
       "      <td>1.0</td>\n",
       "      <td>2050.0</td>\n",
       "      <td>64150</td>\n",
       "      <td>100.0</td>\n",
       "      <td>0.0</td>\n",
       "      <td>0</td>\n",
       "      <td>0</td>\n",
       "      <td>0</td>\n",
       "      <td>...</td>\n",
       "      <td>0</td>\n",
       "      <td>0</td>\n",
       "      <td>0</td>\n",
       "      <td>0</td>\n",
       "      <td>0</td>\n",
       "      <td>0</td>\n",
       "      <td>1</td>\n",
       "      <td>0</td>\n",
       "      <td>0</td>\n",
       "      <td>0</td>\n",
       "    </tr>\n",
       "    <tr>\n",
       "      <th>1</th>\n",
       "      <td>MANUTENTIONNAIRE</td>\n",
       "      <td>Temps partagé</td>\n",
       "      <td>1.0</td>\n",
       "      <td>2000.0</td>\n",
       "      <td>64150</td>\n",
       "      <td>75.0</td>\n",
       "      <td>25.0</td>\n",
       "      <td>0</td>\n",
       "      <td>0</td>\n",
       "      <td>0</td>\n",
       "      <td>...</td>\n",
       "      <td>0</td>\n",
       "      <td>0</td>\n",
       "      <td>0</td>\n",
       "      <td>0</td>\n",
       "      <td>0</td>\n",
       "      <td>1</td>\n",
       "      <td>0</td>\n",
       "      <td>1</td>\n",
       "      <td>0</td>\n",
       "      <td>0</td>\n",
       "    </tr>\n",
       "    <tr>\n",
       "      <th>2</th>\n",
       "      <td>MANUTENTIONNAIRE</td>\n",
       "      <td>Bénévolat</td>\n",
       "      <td>1.0</td>\n",
       "      <td>1750.0</td>\n",
       "      <td>64360</td>\n",
       "      <td>100.0</td>\n",
       "      <td>100.0</td>\n",
       "      <td>0</td>\n",
       "      <td>0</td>\n",
       "      <td>0</td>\n",
       "      <td>...</td>\n",
       "      <td>0</td>\n",
       "      <td>0</td>\n",
       "      <td>0</td>\n",
       "      <td>0</td>\n",
       "      <td>1</td>\n",
       "      <td>0</td>\n",
       "      <td>0</td>\n",
       "      <td>1</td>\n",
       "      <td>0</td>\n",
       "      <td>0</td>\n",
       "    </tr>\n",
       "    <tr>\n",
       "      <th>3</th>\n",
       "      <td>SERVEUSE</td>\n",
       "      <td>Militaire</td>\n",
       "      <td>1.0</td>\n",
       "      <td>1800.0</td>\n",
       "      <td>64360</td>\n",
       "      <td>0.0</td>\n",
       "      <td>75.0</td>\n",
       "      <td>0</td>\n",
       "      <td>0</td>\n",
       "      <td>0</td>\n",
       "      <td>...</td>\n",
       "      <td>0</td>\n",
       "      <td>0</td>\n",
       "      <td>0</td>\n",
       "      <td>0</td>\n",
       "      <td>0</td>\n",
       "      <td>0</td>\n",
       "      <td>1</td>\n",
       "      <td>0</td>\n",
       "      <td>0</td>\n",
       "      <td>0</td>\n",
       "    </tr>\n",
       "    <tr>\n",
       "      <th>4</th>\n",
       "      <td>MANOEUVRE</td>\n",
       "      <td>Vdi (vendeur à domicile indépendant)</td>\n",
       "      <td>1.0</td>\n",
       "      <td>2100.0</td>\n",
       "      <td>64360</td>\n",
       "      <td>100.0</td>\n",
       "      <td>25.0</td>\n",
       "      <td>0</td>\n",
       "      <td>0</td>\n",
       "      <td>0</td>\n",
       "      <td>...</td>\n",
       "      <td>0</td>\n",
       "      <td>0</td>\n",
       "      <td>1</td>\n",
       "      <td>0</td>\n",
       "      <td>0</td>\n",
       "      <td>0</td>\n",
       "      <td>0</td>\n",
       "      <td>0</td>\n",
       "      <td>1</td>\n",
       "      <td>0</td>\n",
       "    </tr>\n",
       "  </tbody>\n",
       "</table>\n",
       "<p>5 rows × 29 columns</p>\n",
       "</div>"
      ],
      "text/plain": [
       "    Métier du poste       Quels types de contrats pour les embauchés  \\\n",
       "0  MANUTENTIONNAIRE  Contrat aidé ou aménagé (travailleur handicapé)   \n",
       "1  MANUTENTIONNAIRE                                    Temps partagé   \n",
       "2  MANUTENTIONNAIRE                                        Bénévolat   \n",
       "3          SERVEUSE                                        Militaire   \n",
       "4         MANOEUVRE             Vdi (vendeur à domicile indépendant)   \n",
       "\n",
       "   Temps de travail  Niveau de rémunération  Code Postal  Télétravail (en %)  \\\n",
       "0               1.0                  2050.0        64150               100.0   \n",
       "1               1.0                  2000.0        64150                75.0   \n",
       "2               1.0                  1750.0        64360               100.0   \n",
       "3               1.0                  1800.0        64360                 0.0   \n",
       "4               1.0                  2100.0        64360               100.0   \n",
       "\n",
       "   Poste avec du déplacement (en %)  Audace, capacité à oser  \\\n",
       "0                               0.0                        0   \n",
       "1                              25.0                        0   \n",
       "2                             100.0                        0   \n",
       "3                              75.0                        0   \n",
       "4                              25.0                        0   \n",
       "\n",
       "   Capacité et application d'une consigne  \\\n",
       "0                                       0   \n",
       "1                                       0   \n",
       "2                                       0   \n",
       "3                                       0   \n",
       "4                                       0   \n",
       "\n",
       "   Communication, faire passer un message  ...  Ponctualité  \\\n",
       "0                                       0  ...            0   \n",
       "1                                       0  ...            0   \n",
       "2                                       0  ...            0   \n",
       "3                                       0  ...            0   \n",
       "4                                       0  ...            0   \n",
       "\n",
       "   Présence, capacité de concentration  Résolution de problème  \\\n",
       "0                                    0                       0   \n",
       "1                                    0                       0   \n",
       "2                                    0                       0   \n",
       "3                                    0                       0   \n",
       "4                                    0                       1   \n",
       "\n",
       "   Sens du collectif, partage  Vision  \\\n",
       "0                           0       0   \n",
       "1                           0       0   \n",
       "2                           0       1   \n",
       "3                           0       0   \n",
       "4                           0       0   \n",
       "\n",
       "   Visualisation, Zoom sur la mise en pratique des méthodes concrètes  \\\n",
       "0                                                  0                    \n",
       "1                                                  1                    \n",
       "2                                                  0                    \n",
       "3                                                  0                    \n",
       "4                                                  0                    \n",
       "\n",
       "   Permis de conduire  Transports en commun  Voiture  Véhicule 2 roues  \n",
       "0                   1                     0        0                 0  \n",
       "1                   0                     1        0                 0  \n",
       "2                   0                     1        0                 0  \n",
       "3                   1                     0        0                 0  \n",
       "4                   0                     0        1                 0  \n",
       "\n",
       "[5 rows x 29 columns]"
      ]
     },
     "execution_count": 33,
     "metadata": {},
     "output_type": "execute_result"
    }
   ],
   "source": [
    "dataCLIENT.head(5)"
   ]
  },
  {
   "cell_type": "code",
   "execution_count": 34,
   "metadata": {},
   "outputs": [
    {
     "data": {
      "text/html": [
       "<div>\n",
       "<style scoped>\n",
       "    .dataframe tbody tr th:only-of-type {\n",
       "        vertical-align: middle;\n",
       "    }\n",
       "\n",
       "    .dataframe tbody tr th {\n",
       "        vertical-align: top;\n",
       "    }\n",
       "\n",
       "    .dataframe thead th {\n",
       "        text-align: right;\n",
       "    }\n",
       "</style>\n",
       "<table border=\"1\" class=\"dataframe\">\n",
       "  <thead>\n",
       "    <tr style=\"text-align: right;\">\n",
       "      <th></th>\n",
       "      <th>Code Postal</th>\n",
       "      <th>Dernier poste occupé (ou actuel)</th>\n",
       "      <th>Métier du poste</th>\n",
       "      <th>Temps de travail</th>\n",
       "      <th>Niveau de rémunération</th>\n",
       "      <th>Ville</th>\n",
       "      <th>Quelle taille d'entreprise / organisation TEXTE</th>\n",
       "      <th>Permis de conduire</th>\n",
       "      <th>TPE - moins de 10 personnes</th>\n",
       "      <th>PME 10 à 250 personnes</th>\n",
       "      <th>...</th>\n",
       "      <th>Résolution de problème</th>\n",
       "      <th>Sens du collectif, partage</th>\n",
       "      <th>Vision</th>\n",
       "      <th>Visualisation, Zoom sur la mise en pratique des méthodes concrètes</th>\n",
       "      <th>Bon jugement</th>\n",
       "      <th>Sympatique</th>\n",
       "      <th>Créativité</th>\n",
       "      <th>Transports en commun</th>\n",
       "      <th>Voiture</th>\n",
       "      <th>Véhicule 2 roues</th>\n",
       "    </tr>\n",
       "  </thead>\n",
       "  <tbody>\n",
       "    <tr>\n",
       "      <th>0</th>\n",
       "      <td>64230.0</td>\n",
       "      <td>AGENT ADMINISTRATIF</td>\n",
       "      <td>AGENT ADMINISTRATIF</td>\n",
       "      <td>1.0</td>\n",
       "      <td>2280.0</td>\n",
       "      <td>SAUVAGNON</td>\n",
       "      <td>ETI</td>\n",
       "      <td>1</td>\n",
       "      <td>non</td>\n",
       "      <td>oui</td>\n",
       "      <td>...</td>\n",
       "      <td>0</td>\n",
       "      <td>0</td>\n",
       "      <td>0</td>\n",
       "      <td>0</td>\n",
       "      <td>0</td>\n",
       "      <td>0</td>\n",
       "      <td>0</td>\n",
       "      <td>0</td>\n",
       "      <td>1</td>\n",
       "      <td>0</td>\n",
       "    </tr>\n",
       "    <tr>\n",
       "      <th>1</th>\n",
       "      <td>64870.0</td>\n",
       "      <td>AGENT DE NETTOYAGE</td>\n",
       "      <td>AGENT DE NETTOYAGE</td>\n",
       "      <td>1.0</td>\n",
       "      <td>2320.0</td>\n",
       "      <td>ESCOUT</td>\n",
       "      <td>ETI</td>\n",
       "      <td>1</td>\n",
       "      <td>non</td>\n",
       "      <td>non</td>\n",
       "      <td>...</td>\n",
       "      <td>0</td>\n",
       "      <td>0</td>\n",
       "      <td>0</td>\n",
       "      <td>0</td>\n",
       "      <td>0</td>\n",
       "      <td>0</td>\n",
       "      <td>0</td>\n",
       "      <td>0</td>\n",
       "      <td>1</td>\n",
       "      <td>0</td>\n",
       "    </tr>\n",
       "    <tr>\n",
       "      <th>2</th>\n",
       "      <td>64270.0</td>\n",
       "      <td>AGENT DE PRÉCONTRAINTE</td>\n",
       "      <td>AGENT DE PRÉCONTRAINTE</td>\n",
       "      <td>1.0</td>\n",
       "      <td>1940.0</td>\n",
       "      <td>SALIES-DE-BEARN</td>\n",
       "      <td>ETI</td>\n",
       "      <td>1</td>\n",
       "      <td>oui</td>\n",
       "      <td>oui</td>\n",
       "      <td>...</td>\n",
       "      <td>0</td>\n",
       "      <td>0</td>\n",
       "      <td>1</td>\n",
       "      <td>0</td>\n",
       "      <td>0</td>\n",
       "      <td>0</td>\n",
       "      <td>0</td>\n",
       "      <td>0</td>\n",
       "      <td>1</td>\n",
       "      <td>0</td>\n",
       "    </tr>\n",
       "    <tr>\n",
       "      <th>3</th>\n",
       "      <td>64000.0</td>\n",
       "      <td>AGENT DE PRODUCTION</td>\n",
       "      <td>AGENT DE PRODUCTION</td>\n",
       "      <td>1.0</td>\n",
       "      <td>2160.0</td>\n",
       "      <td>PAU</td>\n",
       "      <td>ETI</td>\n",
       "      <td>1</td>\n",
       "      <td>oui</td>\n",
       "      <td>oui</td>\n",
       "      <td>...</td>\n",
       "      <td>0</td>\n",
       "      <td>0</td>\n",
       "      <td>0</td>\n",
       "      <td>0</td>\n",
       "      <td>0</td>\n",
       "      <td>0</td>\n",
       "      <td>0</td>\n",
       "      <td>0</td>\n",
       "      <td>1</td>\n",
       "      <td>0</td>\n",
       "    </tr>\n",
       "    <tr>\n",
       "      <th>4</th>\n",
       "      <td>64370.0</td>\n",
       "      <td>AGENT DE SECURITE</td>\n",
       "      <td>AGENT DE SECURITE</td>\n",
       "      <td>0.8</td>\n",
       "      <td>2120.0</td>\n",
       "      <td>DOAZON</td>\n",
       "      <td>ETI</td>\n",
       "      <td>0</td>\n",
       "      <td>non</td>\n",
       "      <td>non</td>\n",
       "      <td>...</td>\n",
       "      <td>0</td>\n",
       "      <td>0</td>\n",
       "      <td>0</td>\n",
       "      <td>0</td>\n",
       "      <td>0</td>\n",
       "      <td>0</td>\n",
       "      <td>0</td>\n",
       "      <td>0</td>\n",
       "      <td>0</td>\n",
       "      <td>1</td>\n",
       "    </tr>\n",
       "  </tbody>\n",
       "</table>\n",
       "<p>5 rows × 47 columns</p>\n",
       "</div>"
      ],
      "text/plain": [
       "   Code Postal Dernier poste occupé (ou actuel)         Métier du poste  \\\n",
       "0      64230.0              AGENT ADMINISTRATIF     AGENT ADMINISTRATIF   \n",
       "1      64870.0               AGENT DE NETTOYAGE      AGENT DE NETTOYAGE   \n",
       "2      64270.0           AGENT DE PRÉCONTRAINTE  AGENT DE PRÉCONTRAINTE   \n",
       "3      64000.0              AGENT DE PRODUCTION     AGENT DE PRODUCTION   \n",
       "4      64370.0                AGENT DE SECURITE       AGENT DE SECURITE   \n",
       "\n",
       "   Temps de travail  Niveau de rémunération            Ville  \\\n",
       "0               1.0                  2280.0        SAUVAGNON   \n",
       "1               1.0                  2320.0           ESCOUT   \n",
       "2               1.0                  1940.0  SALIES-DE-BEARN   \n",
       "3               1.0                  2160.0              PAU   \n",
       "4               0.8                  2120.0           DOAZON   \n",
       "\n",
       "  Quelle taille d'entreprise / organisation TEXTE Permis de conduire  \\\n",
       "0                                             ETI                  1   \n",
       "1                                             ETI                  1   \n",
       "2                                             ETI                  1   \n",
       "3                                             ETI                  1   \n",
       "4                                             ETI                  0   \n",
       "\n",
       "  TPE - moins de 10 personnes PME 10 à 250 personnes  ...  \\\n",
       "0                         non                    oui  ...   \n",
       "1                         non                    non  ...   \n",
       "2                         oui                    oui  ...   \n",
       "3                         oui                    oui  ...   \n",
       "4                         non                    non  ...   \n",
       "\n",
       "  Résolution de problème Sens du collectif, partage Vision  \\\n",
       "0                      0                          0      0   \n",
       "1                      0                          0      0   \n",
       "2                      0                          0      1   \n",
       "3                      0                          0      0   \n",
       "4                      0                          0      0   \n",
       "\n",
       "  Visualisation, Zoom sur la mise en pratique des méthodes concrètes  \\\n",
       "0                                                  0                   \n",
       "1                                                  0                   \n",
       "2                                                  0                   \n",
       "3                                                  0                   \n",
       "4                                                  0                   \n",
       "\n",
       "  Bon jugement Sympatique  Créativité Transports en commun Voiture  \\\n",
       "0            0          0           0                    0       1   \n",
       "1            0          0           0                    0       1   \n",
       "2            0          0           0                    0       1   \n",
       "3            0          0           0                    0       1   \n",
       "4            0          0           0                    0       0   \n",
       "\n",
       "  Véhicule 2 roues  \n",
       "0                0  \n",
       "1                0  \n",
       "2                0  \n",
       "3                0  \n",
       "4                1  \n",
       "\n",
       "[5 rows x 47 columns]"
      ]
     },
     "execution_count": 34,
     "metadata": {},
     "output_type": "execute_result"
    }
   ],
   "source": [
    "dataJOBEUR.head(5)"
   ]
  },
  {
   "cell_type": "markdown",
   "metadata": {},
   "source": [
    "## Execution de l'algorithme"
   ]
  },
  {
   "cell_type": "code",
   "execution_count": 35,
   "metadata": {},
   "outputs": [],
   "source": [
    "def Upload_Dataframe(filename1, filename2):\n",
    "    data_jobeur = pd.read_excel(filename1, engine='openpyxl', skiprows=6)\n",
    "    data_client = pd.read_excel(filename2, engine='openpyxl', skiprows=6)\n",
    "    return data_jobeur, data_client"
   ]
  },
  {
   "cell_type": "code",
   "execution_count": 36,
   "metadata": {},
   "outputs": [],
   "source": [
    "def Show_Suggestion(suggestion, filename, i):\n",
    "    sortedThird = sorted(suggestion, key=lambda tup: tup[1])\n",
    "    return filename.iloc[sortedThird[i][1]]"
   ]
  },
  {
   "cell_type": "code",
   "execution_count": 37,
   "metadata": {},
   "outputs": [],
   "source": [
    "def Find_Match_Client(dataClient, dataJobeur, i):\n",
    "    Suggestions = []\n",
    "    S = 0\n",
    "    penalty = 0\n",
    "    for j in range(dataJOBEUR.shape[0]):\n",
    "        S = 0\n",
    "        priority = 0\n",
    "        for k in dataClient.columns:\n",
    "            if (k == 'Métier du poste' or k == 'Temps de travail'):\n",
    "                if (dataClient.iloc[i][k] != dataJOBEUR.iloc[j][k]):\n",
    "                    COND = False\n",
    "                    break\n",
    "                else:\n",
    "                    continue\n",
    "                    \n",
    "            # <---- Distance ---->\n",
    "            if (k == 'Code Postal'):\n",
    "                if (dataClient.iloc[i][k] != dataJOBEUR.iloc[j][k]):\n",
    "                    d_local = Distance_CodePostal(int(dataClient.iloc[i][k]), int(dataJOBEUR.iloc[j][k]))\n",
    "                    if (0 <= d_local <= 20):\n",
    "                        if (dataJobeur.iloc[j]['0-20klm'] == 1 and dataJobeur.iloc[j]['Seriez-vous prêt à déménager pour ce futur job ?'] == 1):\n",
    "                            COND = False\n",
    "                            break\n",
    "                        else:\n",
    "                            continue\n",
    "                    if (21 <= d_local <= 40):\n",
    "                        if (dataJobeur.iloc[j]['21-40klm'] == 1 and dataJobeur.iloc[j]['Seriez-vous prêt à déménager pour ce futur job ?'] == 1):\n",
    "                            COND = False\n",
    "                            break\n",
    "                        else:\n",
    "                            continue\n",
    "                    if (41 <= d_local <= 60):\n",
    "                        if (dataJobeur.iloc[j]['41-60klm'] == 1 and dataJobeur.iloc[j]['Seriez-vous prêt à déménager pour ce futur job ?'] == 1):\n",
    "                            COND = False\n",
    "                            break\n",
    "                        else:\n",
    "                            continue\n",
    "                    if (d_local >= 61):\n",
    "                        if (dataJobeur.iloc[j]['61-klm et plus'] == 1 and dataJobeur.iloc[j]['Seriez-vous prêt à déménager pour ce futur job ?'] == 1):\n",
    "                            COND = False\n",
    "                            break\n",
    "                        else:\n",
    "                            continue\n",
    "                    continue\n",
    "                else:\n",
    "                    continue\n",
    "                    \n",
    "            # <---- Pénalisation pour le niveau de rémunération ----->     \n",
    "            if (k == 'Niveau de rémunération'):\n",
    "                if (dataClient.iloc[i][k] != dataJOBEUR.iloc[j][k]):\n",
    "                    penalty = penalty + 2\n",
    "                    continue\n",
    "                else:\n",
    "                    continue\n",
    "                    \n",
    "            # <---- Pénalisation pour le permis de conduire ----->\n",
    "            if (k == 'Permis de conduire'):\n",
    "                if (dataClient.iloc[i][k] == 1):\n",
    "                    if (dataClient.iloc[i][k] != dataJOBEUR.iloc[j][k]):\n",
    "                        penalty = penalty + 2\n",
    "                        continue\n",
    "                    else:\n",
    "                        continue\n",
    "\n",
    "            # <---- Pénalisation pour type de contrat ---->\n",
    "            if (k == 'Quels types de contrats pour les embauchés'):\n",
    "                if (dataClient.iloc[i][k] != dataJOBEUR.iloc[j]['Quel type de contrat vous intéresse 1'] and\n",
    "                   dataClient.iloc[i][k] != dataJOBEUR.iloc[j]['Quel type de contrat vous intéresse 2'] and \n",
    "                   dataClient.iloc[i][k] != dataJOBEUR.iloc[j]['Quel type de contrat vous intéresse 3']):\n",
    "                    penalty = penalty + 2\n",
    "                    continue\n",
    "                else:\n",
    "                    continue\n",
    "                    \n",
    "            if (int(dataJOBEUR.iloc[j][k]) == 0):\n",
    "                S = S + abs(int(dataClient.iloc[i][k])-int(dataJOBEUR.iloc[j][k]))\n",
    "        if COND: \n",
    "            Suggestions = Suggestions + [(S, penalty, j)]\n",
    "        COND = True\n",
    "    return Suggestions"
   ]
  },
  {
   "cell_type": "code",
   "execution_count": 38,
   "metadata": {},
   "outputs": [],
   "source": [
    "data_jobeur, data_client = Upload_Dataframe(data_jobeur_file, data_client_file)"
   ]
  },
  {
   "cell_type": "markdown",
   "metadata": {},
   "source": [
    "Ici, on cherchera le matching de l'individu **(1)** de **'DATA CLIENT.xlsx'.**"
   ]
  },
  {
   "cell_type": "code",
   "execution_count": 39,
   "metadata": {},
   "outputs": [],
   "source": [
    "suggestMatchClient = Find_Match_Client(dataCLIENT, dataJOBEUR, 1)"
   ]
  },
  {
   "cell_type": "markdown",
   "metadata": {},
   "source": [
    "On distingue le coût au niveau des compétences *(DIMENSION 1)* et les autres coûts **('Permis de conduire' 'Type de contrat' et 'Niveau de rémunération')** *(DIMENSION 2)* dans des dimensions différentes. On prendra comme hypothèse que le coût d'une divergence au niveau du 'Permis de conduire' et 'Niveau de rémunération' est plus importante que dans 'Type de contrat'. On optimisera dans les deux directions, la troisième dimension contient l'index des individus de **'DATA JOBEUR.xlsx'** avec un ordre décroissant au niveau du matching.\n",
    "\n",
    "On va montrer les 10 individus de **'DATA JOBEUR.xlsx'** qui matchent le plus l'individu de **'DATA CLIENT.xlsx'**."
   ]
  },
  {
   "cell_type": "code",
   "execution_count": 40,
   "metadata": {},
   "outputs": [
    {
     "data": {
      "text/plain": [
       "[(2, 8, 158),\n",
       " (2, 12, 159),\n",
       " (2, 16, 160),\n",
       " (1, 30, 164),\n",
       " (2, 36, 166),\n",
       " (2, 54, 171),\n",
       " (2, 58, 172),\n",
       " (2, 62, 173),\n",
       " (2, 68, 175),\n",
       " (2, 72, 176)]"
      ]
     },
     "execution_count": 40,
     "metadata": {},
     "output_type": "execute_result"
    }
   ],
   "source": [
    "suggestMatchClient[0:10]"
   ]
  },
  {
   "cell_type": "markdown",
   "metadata": {},
   "source": [
    "Ici on inspecte le premier individu de **'DATA JOBEUR.xlsx'** qui *match* le plus l'individu **(1)** de **'DATA CLIENT.xlsx'**."
   ]
  },
  {
   "cell_type": "code",
   "execution_count": 41,
   "metadata": {},
   "outputs": [
    {
     "data": {
      "text/plain": [
       "Code Postal                                                                                                64150\n",
       "Dernier poste occupé (ou actuel)                                                               AGENT DE SECURITE\n",
       "Métier du poste                                                                                AGENT DE SECURITE\n",
       "Temps de travail                                                                                             0.5\n",
       "Niveau de rémunération                                                                                      2200\n",
       "Ville                                                                                                    MOURENX\n",
       "Quelle taille d'entreprise / organisation TEXTE                                                              ETI\n",
       "Permis de conduire                                                                                             1\n",
       "TPE - moins de 10 personnes                                                                                  non\n",
       "PME 10 à 250 personnes                                                                                       non\n",
       "ETI 250 à 5000                                                                                               oui\n",
       "GRAND GROUPE - Plus de 500 personnes                                                                         non\n",
       "Quel type de contrat vous intéresse 1                                                                    Intérim\n",
       "Quel type de contrat vous intéresse 2                                        Vdi (vendeur à doicile indépendant)\n",
       "Quel type de contrat vous intéresse 3                                 Indépendant / franchisé (eurl, sarl, sasu)\n",
       "Si non, souhaitez-vous vous plus d'informations ?                                                            non\n",
       "Télétravail (en %)                                                                                            25\n",
       "0-20klm                                                                                                        0\n",
       "21-40klm                                                                                                       1\n",
       "41-60klm                                                                                                       1\n",
       "61-klm et plus                                                                                                 1\n",
       "Seriez-vous prêt à déménager pour ce futur job ?                                                               1\n",
       "Poste avec du déplacement (en %)                                                                              75\n",
       "Audace, capacité à oser                                                                                        1\n",
       "Capacité et application d'une consigne                                                                         0\n",
       "Communication, faire passer un message                                                                         0\n",
       "Confiance (en soi, en les autres et en l'avenir)                                                               0\n",
       "Créativité, générer des idées                                                                                  0\n",
       "Curiosité, aimer apprendre                                                                                     0\n",
       "Empathie, comprendre la réalité                                                                                0\n",
       "Esprit d'entreprendre, proactivité                                                                             0\n",
       "Gestion du stress                                                                                              0\n",
       "Intelligence émotionnelle                                                                                      0\n",
       "Motivation                                                                                                     0\n",
       "Organisation du temps, respect de dates buttoires                                                              0\n",
       "Ponctualité                                                                                                    0\n",
       "Présence, capacité de concentration                                                                            0\n",
       "Résolution de problème                                                                                         0\n",
       "Sens du collectif, partage                                                                                     0\n",
       "Vision                                                                                                         0\n",
       "Visualisation, Zoom sur la mise en pratique des méthodes concrètes                                             0\n",
       "Bon jugement                                                                                                   0\n",
       "Sympatique                                                                                                     0\n",
       "Créativité                                                                                                     0\n",
       "Transports en commun                                                                                           0\n",
       "Voiture                                                                                                        1\n",
       "Véhicule 2 roues                                                                                               0\n",
       "Name: 8, dtype: object"
      ]
     },
     "execution_count": 41,
     "metadata": {},
     "output_type": "execute_result"
    }
   ],
   "source": [
    "Show_Suggestion(suggestMatchClient, dataJOBEUR, 0)"
   ]
  },
  {
   "cell_type": "markdown",
   "metadata": {},
   "source": [
    "Ici on inspecte le deuxième individu de **'DATA JOBEUR.xlsx'** qui *match* le plus l'individu **(1)** de **'DATA CLIENT.xlsx'**."
   ]
  },
  {
   "cell_type": "code",
   "execution_count": 42,
   "metadata": {},
   "outputs": [
    {
     "data": {
      "text/plain": [
       "Code Postal                                                                       64360\n",
       "Dernier poste occupé (ou actuel)                                      AGENT DE SECURITE\n",
       "Métier du poste                                                       AGENT DE SECURITE\n",
       "Temps de travail                                                                      1\n",
       "Niveau de rémunération                                                             2060\n",
       "Ville                                                                              ABOS\n",
       "Quelle taille d'entreprise / organisation TEXTE                                     ETI\n",
       "Permis de conduire                                                                    1\n",
       "TPE - moins de 10 personnes                                                         oui\n",
       "PME 10 à 250 personnes                                                              oui\n",
       "ETI 250 à 5000                                                                      non\n",
       "GRAND GROUPE - Plus de 500 personnes                                                oui\n",
       "Quel type de contrat vous intéresse 1                                           Intérim\n",
       "Quel type de contrat vous intéresse 2                                               Cdd\n",
       "Quel type de contrat vous intéresse 3                                               Cdi\n",
       "Si non, souhaitez-vous vous plus d'informations ?                                   non\n",
       "Télétravail (en %)                                                                   75\n",
       "0-20klm                                                                               1\n",
       "21-40klm                                                                              0\n",
       "41-60klm                                                                              1\n",
       "61-klm et plus                                                                        1\n",
       "Seriez-vous prêt à déménager pour ce futur job ?                                      1\n",
       "Poste avec du déplacement (en %)                                                     25\n",
       "Audace, capacité à oser                                                               0\n",
       "Capacité et application d'une consigne                                                0\n",
       "Communication, faire passer un message                                                0\n",
       "Confiance (en soi, en les autres et en l'avenir)                                      0\n",
       "Créativité, générer des idées                                                         0\n",
       "Curiosité, aimer apprendre                                                            0\n",
       "Empathie, comprendre la réalité                                                       0\n",
       "Esprit d'entreprendre, proactivité                                                    0\n",
       "Gestion du stress                                                                     0\n",
       "Intelligence émotionnelle                                                             1\n",
       "Motivation                                                                            0\n",
       "Organisation du temps, respect de dates buttoires                                     0\n",
       "Ponctualité                                                                           0\n",
       "Présence, capacité de concentration                                                   0\n",
       "Résolution de problème                                                                0\n",
       "Sens du collectif, partage                                                            0\n",
       "Vision                                                                                0\n",
       "Visualisation, Zoom sur la mise en pratique des méthodes concrètes                    0\n",
       "Bon jugement                                                                          0\n",
       "Sympatique                                                                            0\n",
       "Créativité                                                                            0\n",
       "Transports en commun                                                                  0\n",
       "Voiture                                                                               1\n",
       "Véhicule 2 roues                                                                      0\n",
       "Name: 12, dtype: object"
      ]
     },
     "execution_count": 42,
     "metadata": {},
     "output_type": "execute_result"
    }
   ],
   "source": [
    "Show_Suggestion(suggestMatchClient, dataJOBEUR, 1)"
   ]
  }
 ],
 "metadata": {
  "kernelspec": {
   "display_name": "Python 3",
   "language": "python",
   "name": "python3"
  },
  "language_info": {
   "codemirror_mode": {
    "name": "ipython",
    "version": 3
   },
   "file_extension": ".py",
   "mimetype": "text/x-python",
   "name": "python",
   "nbconvert_exporter": "python",
   "pygments_lexer": "ipython3",
   "version": "3.7.6"
  }
 },
 "nbformat": 4,
 "nbformat_minor": 4
}
